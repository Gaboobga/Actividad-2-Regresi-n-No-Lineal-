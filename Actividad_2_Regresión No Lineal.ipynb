{
 "cells": [
  {
   "cell_type": "code",
   "execution_count": 1,
   "id": "4abe5d61",
   "metadata": {},
   "outputs": [],
   "source": [
    "#Cargamos librerias\n",
    "import pandas as pd\n",
    "import numpy as np\n",
    "import matplotlib.pyplot as plt\n",
    "import scipy.special as special\n",
    "from scipy.optimize import curve_fit\n",
    "import seaborn as sns\n",
    "from sklearn.metrics import r2_score"
   ]
  },
  {
   "cell_type": "code",
   "execution_count": 2,
   "id": "12bbba5e",
   "metadata": {},
   "outputs": [
    {
     "data": {
      "text/html": [
       "<div>\n",
       "<style scoped>\n",
       "    .dataframe tbody tr th:only-of-type {\n",
       "        vertical-align: middle;\n",
       "    }\n",
       "\n",
       "    .dataframe tbody tr th {\n",
       "        vertical-align: top;\n",
       "    }\n",
       "\n",
       "    .dataframe thead th {\n",
       "        text-align: right;\n",
       "    }\n",
       "</style>\n",
       "<table border=\"1\" class=\"dataframe\">\n",
       "  <thead>\n",
       "    <tr style=\"text-align: right;\">\n",
       "      <th></th>\n",
       "      <th>Unnamed: 0</th>\n",
       "      <th>host_name</th>\n",
       "      <th>host_since</th>\n",
       "      <th>host_response_time</th>\n",
       "      <th>property_type</th>\n",
       "      <th>room_type</th>\n",
       "      <th>bathrooms_text</th>\n",
       "      <th>first_review</th>\n",
       "      <th>last_review</th>\n",
       "      <th>host_response_rate</th>\n",
       "      <th>...</th>\n",
       "      <th>review_scores_value</th>\n",
       "      <th>instant_bookable</th>\n",
       "      <th>calculated_host_listings_count</th>\n",
       "      <th>calculated_host_listings_count_entire_homes</th>\n",
       "      <th>calculated_host_listings_count_private_rooms</th>\n",
       "      <th>calculated_host_listings_count_shared_rooms</th>\n",
       "      <th>reviews_per_month</th>\n",
       "      <th>host_since_num</th>\n",
       "      <th>first_review_num</th>\n",
       "      <th>last_review_num</th>\n",
       "    </tr>\n",
       "  </thead>\n",
       "  <tbody>\n",
       "    <tr>\n",
       "      <th>0</th>\n",
       "      <td>0</td>\n",
       "      <td>Rita</td>\n",
       "      <td>26/11/2010</td>\n",
       "      <td>within a few hours</td>\n",
       "      <td>Entire condo</td>\n",
       "      <td>Entire home/apt</td>\n",
       "      <td>1 bath</td>\n",
       "      <td>29/12/2010</td>\n",
       "      <td>30/04/2025</td>\n",
       "      <td>1.0</td>\n",
       "      <td>...</td>\n",
       "      <td>4.78</td>\n",
       "      <td>0</td>\n",
       "      <td>1.0</td>\n",
       "      <td>1.0</td>\n",
       "      <td>0.0</td>\n",
       "      <td>0.0</td>\n",
       "      <td>0.32</td>\n",
       "      <td>417</td>\n",
       "      <td>4827.0</td>\n",
       "      <td>3433.0</td>\n",
       "    </tr>\n",
       "    <tr>\n",
       "      <th>1</th>\n",
       "      <td>1</td>\n",
       "      <td>Michelle</td>\n",
       "      <td>19/11/2012</td>\n",
       "      <td>within an hour</td>\n",
       "      <td>Entire condo</td>\n",
       "      <td>Entire home/apt</td>\n",
       "      <td>1 bath</td>\n",
       "      <td>01/02/2013</td>\n",
       "      <td>27/07/2024</td>\n",
       "      <td>1.0</td>\n",
       "      <td>...</td>\n",
       "      <td>4.76</td>\n",
       "      <td>0</td>\n",
       "      <td>1.0</td>\n",
       "      <td>1.0</td>\n",
       "      <td>0.0</td>\n",
       "      <td>0.0</td>\n",
       "      <td>0.46</td>\n",
       "      <td>1141</td>\n",
       "      <td>4827.0</td>\n",
       "      <td>3521.0</td>\n",
       "    </tr>\n",
       "    <tr>\n",
       "      <th>2</th>\n",
       "      <td>2</td>\n",
       "      <td>Judy</td>\n",
       "      <td>27/12/2012</td>\n",
       "      <td>within an hour</td>\n",
       "      <td>Private room in home</td>\n",
       "      <td>Private room</td>\n",
       "      <td>1 private bath</td>\n",
       "      <td>29/08/2016</td>\n",
       "      <td>30/09/2023</td>\n",
       "      <td>1.0</td>\n",
       "      <td>...</td>\n",
       "      <td>4.83</td>\n",
       "      <td>0</td>\n",
       "      <td>2.0</td>\n",
       "      <td>0.0</td>\n",
       "      <td>0.0</td>\n",
       "      <td>0.0</td>\n",
       "      <td>0.66</td>\n",
       "      <td>1179</td>\n",
       "      <td>4827.0</td>\n",
       "      <td>3521.0</td>\n",
       "    </tr>\n",
       "    <tr>\n",
       "      <th>3</th>\n",
       "      <td>3</td>\n",
       "      <td>Joan</td>\n",
       "      <td>23/04/2013</td>\n",
       "      <td>within an hour</td>\n",
       "      <td>Entire rental unit</td>\n",
       "      <td>Entire home/apt</td>\n",
       "      <td>1 bath</td>\n",
       "      <td>02/06/2013</td>\n",
       "      <td>29/10/2024</td>\n",
       "      <td>1.0</td>\n",
       "      <td>...</td>\n",
       "      <td>4.66</td>\n",
       "      <td>1</td>\n",
       "      <td>9.0</td>\n",
       "      <td>9.0</td>\n",
       "      <td>0.0</td>\n",
       "      <td>0.0</td>\n",
       "      <td>0.65</td>\n",
       "      <td>1296</td>\n",
       "      <td>4827.0</td>\n",
       "      <td>3521.0</td>\n",
       "    </tr>\n",
       "    <tr>\n",
       "      <th>4</th>\n",
       "      <td>4</td>\n",
       "      <td>C. F. Sandy</td>\n",
       "      <td>13/06/2013</td>\n",
       "      <td>within a day</td>\n",
       "      <td>Private room in home</td>\n",
       "      <td>Private room</td>\n",
       "      <td>1 shared bath</td>\n",
       "      <td>23/04/2017</td>\n",
       "      <td>09/11/2019</td>\n",
       "      <td>1.0</td>\n",
       "      <td>...</td>\n",
       "      <td>4.53</td>\n",
       "      <td>0</td>\n",
       "      <td>1.0</td>\n",
       "      <td>0.0</td>\n",
       "      <td>0.0</td>\n",
       "      <td>0.0</td>\n",
       "      <td>0.30</td>\n",
       "      <td>1347</td>\n",
       "      <td>4827.0</td>\n",
       "      <td>3521.0</td>\n",
       "    </tr>\n",
       "  </tbody>\n",
       "</table>\n",
       "<p>5 rows × 53 columns</p>\n",
       "</div>"
      ],
      "text/plain": [
       "   Unnamed: 0    host_name  host_since  host_response_time  \\\n",
       "0           0         Rita  26/11/2010  within a few hours   \n",
       "1           1     Michelle  19/11/2012      within an hour   \n",
       "2           2         Judy  27/12/2012      within an hour   \n",
       "3           3         Joan  23/04/2013      within an hour   \n",
       "4           4  C. F. Sandy  13/06/2013        within a day   \n",
       "\n",
       "          property_type        room_type  bathrooms_text first_review  \\\n",
       "0          Entire condo  Entire home/apt          1 bath   29/12/2010   \n",
       "1          Entire condo  Entire home/apt          1 bath   01/02/2013   \n",
       "2  Private room in home     Private room  1 private bath   29/08/2016   \n",
       "3    Entire rental unit  Entire home/apt          1 bath   02/06/2013   \n",
       "4  Private room in home     Private room   1 shared bath   23/04/2017   \n",
       "\n",
       "  last_review  host_response_rate  ...  review_scores_value  instant_bookable  \\\n",
       "0  30/04/2025                 1.0  ...                 4.78                 0   \n",
       "1  27/07/2024                 1.0  ...                 4.76                 0   \n",
       "2  30/09/2023                 1.0  ...                 4.83                 0   \n",
       "3  29/10/2024                 1.0  ...                 4.66                 1   \n",
       "4  09/11/2019                 1.0  ...                 4.53                 0   \n",
       "\n",
       "   calculated_host_listings_count  \\\n",
       "0                             1.0   \n",
       "1                             1.0   \n",
       "2                             2.0   \n",
       "3                             9.0   \n",
       "4                             1.0   \n",
       "\n",
       "   calculated_host_listings_count_entire_homes  \\\n",
       "0                                          1.0   \n",
       "1                                          1.0   \n",
       "2                                          0.0   \n",
       "3                                          9.0   \n",
       "4                                          0.0   \n",
       "\n",
       "   calculated_host_listings_count_private_rooms  \\\n",
       "0                                           0.0   \n",
       "1                                           0.0   \n",
       "2                                           0.0   \n",
       "3                                           0.0   \n",
       "4                                           0.0   \n",
       "\n",
       "   calculated_host_listings_count_shared_rooms  reviews_per_month  \\\n",
       "0                                          0.0               0.32   \n",
       "1                                          0.0               0.46   \n",
       "2                                          0.0               0.66   \n",
       "3                                          0.0               0.65   \n",
       "4                                          0.0               0.30   \n",
       "\n",
       "   host_since_num  first_review_num  last_review_num  \n",
       "0             417            4827.0           3433.0  \n",
       "1            1141            4827.0           3521.0  \n",
       "2            1179            4827.0           3521.0  \n",
       "3            1296            4827.0           3521.0  \n",
       "4            1347            4827.0           3521.0  \n",
       "\n",
       "[5 rows x 53 columns]"
      ]
     },
     "execution_count": 2,
     "metadata": {},
     "output_type": "execute_result"
    }
   ],
   "source": [
    "df = pd.read_csv(\"Datos_limpios.csv\")\n",
    "df.head(5)"
   ]
  },
  {
   "cell_type": "markdown",
   "id": "e1dd579e",
   "metadata": {},
   "source": [
    "host_response_rate"
   ]
  },
  {
   "cell_type": "code",
   "execution_count": 3,
   "id": "82b8fcea",
   "metadata": {},
   "outputs": [
    {
     "name": "stdout",
     "output_type": "stream",
     "text": [
      "Variables más correlacionadas con host_response_rate:\n",
      "\n",
      "instant_bookable          0.217891\n",
      "host_since_num            0.143736\n",
      "number_of_reviews         0.140274\n",
      "host_is_superhost         0.136555\n",
      "minimum_maximum_nights    0.135380\n",
      "Name: host_response_rate, dtype: float64\n",
      "\n",
      "Con signo original:\n",
      "\n",
      "instant_bookable         -0.217891\n",
      "host_since_num           -0.143736\n",
      "number_of_reviews         0.140274\n",
      "host_is_superhost         0.136555\n",
      "minimum_maximum_nights    0.135380\n",
      "Name: host_response_rate, dtype: float64\n"
     ]
    }
   ],
   "source": [
    "# --- Encontrar variables más correlacionadas con una variable dependiente ---\n",
    "# Variable dependiente (puedes cambiarla aquí)\n",
    "var_dep = \"host_response_rate\"\n",
    "\n",
    "# Calculamos todas las correlaciones de esa variable con el resto\n",
    "correls = df.corr(numeric_only=True)[var_dep].drop(var_dep)   # quitamos la propia variable\n",
    "\n",
    "# Ordenamos por valor absoluto de mayor a menor\n",
    "correls_abs = correls.abs().sort_values(ascending=False)\n",
    "\n",
    "# Mostramos el top 5 (o el número que quieras)\n",
    "print(f\"Variables más correlacionadas con {var_dep}:\\n\")\n",
    "print(correls_abs.head(5))\n",
    "\n",
    "# Si quieres ver también el signo original:\n",
    "print(\"\\nCon signo original:\\n\")\n",
    "print(correls.loc[correls_abs.index[:5]])"
   ]
  },
  {
   "cell_type": "code",
   "execution_count": 4,
   "id": "5d9b335c",
   "metadata": {},
   "outputs": [],
   "source": [
    "#Declaramos las variables dependientes e independientes para la regresión No lineal\n",
    "Vars_Indep= df[['minimum_maximum_nights']]\n",
    "Var_Dep= df['host_response_rate']\n",
    "\n",
    "#Redefinimos las variables \n",
    "x= Vars_Indep\n",
    "y= Var_Dep"
   ]
  },
  {
   "cell_type": "markdown",
   "id": "f23e323e",
   "metadata": {},
   "source": [
    "Modelo 1 cuadratico"
   ]
  },
  {
   "cell_type": "code",
   "execution_count": 5,
   "id": "0367e05c",
   "metadata": {},
   "outputs": [],
   "source": [
    "def  func1 (x, a, b, c):\n",
    "     return a*x**2 + b*x + c\n",
    "\n",
    "#Ajustamos los parámetros de la función curve_fit\n",
    "parametros1, covs= curve_fit(func1, df['minimum_maximum_nights'], df['host_response_rate'])"
   ]
  },
  {
   "cell_type": "code",
   "execution_count": 6,
   "id": "1cc8213b",
   "metadata": {},
   "outputs": [
    {
     "data": {
      "text/plain": [
       "array([-2.71818975e-08,  3.88534182e-05,  9.88093695e-01])"
      ]
     },
     "execution_count": 6,
     "metadata": {},
     "output_type": "execute_result"
    }
   ],
   "source": [
    "#Obtenemos los coeficientes del modelo de regresión no lineal\n",
    "parametros1"
   ]
  },
  {
   "cell_type": "code",
   "execution_count": 7,
   "id": "5fb9fe87",
   "metadata": {},
   "outputs": [],
   "source": [
    "# Predicciones\n",
    "y_pred1 = func1(x, *parametros1)"
   ]
  },
  {
   "cell_type": "code",
   "execution_count": 8,
   "id": "619e49d6",
   "metadata": {},
   "outputs": [
    {
     "data": {
      "text/plain": [
       "0.10636297086776014"
      ]
     },
     "execution_count": 8,
     "metadata": {},
     "output_type": "execute_result"
    }
   ],
   "source": [
    "#Calculamos el coeficiente de determinación del modelo\n",
    "R2_Modelo1 = r2_score(y, y_pred1) \n",
    "R2_Modelo1 "
   ]
  },
  {
   "cell_type": "code",
   "execution_count": 9,
   "id": "6bcb6802",
   "metadata": {},
   "outputs": [
    {
     "data": {
      "text/plain": [
       "0.32613336362255263"
      ]
     },
     "execution_count": 9,
     "metadata": {},
     "output_type": "execute_result"
    }
   ],
   "source": [
    "#Calculamos el coeficiente de correlación del modelo\n",
    "R = np.sqrt(R2_Modelo1)\n",
    "R"
   ]
  },
  {
   "cell_type": "markdown",
   "id": "5b13131b",
   "metadata": {},
   "source": [
    "Modelo 2 Logaritmico"
   ]
  },
  {
   "cell_type": "code",
   "execution_count": 12,
   "id": "ecc4bcfd",
   "metadata": {},
   "outputs": [],
   "source": [
    "# Definimos la función logarítmica\n",
    "def func2(x, a, b):\n",
    "    return a * np.log(x) + b"
   ]
  },
  {
   "cell_type": "code",
   "execution_count": 13,
   "id": "fb0de85d",
   "metadata": {},
   "outputs": [],
   "source": [
    "# Ajustamos los parámetros de la función curve_fit\n",
    "# (filtramos x > 0 para evitar errores con log(0))\n",
    "x = df['minimum_maximum_nights']\n",
    "x = x[x > 0]\n",
    "y = df.loc[x.index, 'host_response_rate']\n",
    "parametros2, covs2 = curve_fit(func2, x, y, maxfev=20000)"
   ]
  },
  {
   "cell_type": "code",
   "execution_count": 14,
   "id": "a88a195d",
   "metadata": {},
   "outputs": [
    {
     "data": {
      "text/plain": [
       "array([0.00272474, 0.98074987])"
      ]
     },
     "execution_count": 14,
     "metadata": {},
     "output_type": "execute_result"
    }
   ],
   "source": [
    "# Obtenemos los coeficientes del modelo de regresión no lineal\n",
    "parametros2"
   ]
  },
  {
   "cell_type": "code",
   "execution_count": 15,
   "id": "0fa90178",
   "metadata": {},
   "outputs": [],
   "source": [
    "# Predicciones\n",
    "y_pred2 = func2(x, *parametros2)"
   ]
  },
  {
   "cell_type": "code",
   "execution_count": 16,
   "id": "a1fb6d64",
   "metadata": {},
   "outputs": [
    {
     "data": {
      "text/plain": [
       "0.18747969008067678"
      ]
     },
     "execution_count": 16,
     "metadata": {},
     "output_type": "execute_result"
    }
   ],
   "source": [
    "# Calculamos el coeficiente de determinación del modelo\n",
    "R2_Modelo2 = r2_score(y, y_pred2)\n",
    "R2_Modelo2"
   ]
  },
  {
   "cell_type": "code",
   "execution_count": 17,
   "id": "a4e36dc7",
   "metadata": {},
   "outputs": [
    {
     "data": {
      "text/plain": [
       "0.4329892493823337"
      ]
     },
     "execution_count": 17,
     "metadata": {},
     "output_type": "execute_result"
    }
   ],
   "source": [
    "# Calculamos el coeficiente de correlación del modelo\n",
    "R = np.sqrt(abs(R2_Modelo2))\n",
    "R"
   ]
  },
  {
   "cell_type": "markdown",
   "id": "9173c4ab",
   "metadata": {},
   "source": [
    "host_acceptance_rate"
   ]
  },
  {
   "cell_type": "code",
   "execution_count": 52,
   "id": "eac90b44",
   "metadata": {},
   "outputs": [
    {
     "name": "stdout",
     "output_type": "stream",
     "text": [
      "Variables más correlacionadas con host_acceptance_rate:\n",
      "\n",
      "instant_bookable          0.216214\n",
      "maximum_nights_avg_ntm    0.163894\n",
      "minimum_maximum_nights    0.163721\n",
      "maximum_maximum_nights    0.155687\n",
      "availability_365          0.093106\n",
      "Name: host_acceptance_rate, dtype: float64\n",
      "\n",
      "Con signo original:\n",
      "\n",
      "instant_bookable          0.216214\n",
      "maximum_nights_avg_ntm    0.163894\n",
      "minimum_maximum_nights    0.163721\n",
      "maximum_maximum_nights    0.155687\n",
      "availability_365          0.093106\n",
      "Name: host_acceptance_rate, dtype: float64\n"
     ]
    }
   ],
   "source": [
    "# --- Encontrar variables más correlacionadas con una variable dependiente ---\n",
    "# Variable dependiente (puedes cambiarla aquí)\n",
    "var_dep = \"host_acceptance_rate\"\n",
    "\n",
    "# Calculamos todas las correlaciones de esa variable con el resto\n",
    "correls = df.corr(numeric_only=True)[var_dep].drop(var_dep)   # quitamos la propia variable\n",
    "\n",
    "# Ordenamos por valor absoluto de mayor a menor\n",
    "correls_abs = correls.abs().sort_values(ascending=False)\n",
    "\n",
    "# Mostramos el top 5 (o el número que quieras)\n",
    "print(f\"Variables más correlacionadas con {var_dep}:\\n\")\n",
    "print(correls_abs.head(5))\n",
    "\n",
    "# Si quieres ver también el signo original:\n",
    "print(\"\\nCon signo original:\\n\")\n",
    "print(correls.loc[correls_abs.index[:5]])"
   ]
  },
  {
   "cell_type": "code",
   "execution_count": 58,
   "id": "ee5cfcb6",
   "metadata": {},
   "outputs": [],
   "source": [
    "#Declaramos las variables dependientes e independientes para la regresión No lineal\n",
    "Vars_Indep= df[['instant_bookable']]\n",
    "Var_Dep= df['host_acceptance_rate']\n",
    "\n",
    "#Redefinimos las variables \n",
    "x= Vars_Indep\n",
    "y= Var_Dep"
   ]
  },
  {
   "cell_type": "markdown",
   "id": "2a2ecd0d",
   "metadata": {},
   "source": [
    "Modelo cuadratico"
   ]
  },
  {
   "cell_type": "code",
   "execution_count": null,
   "id": "1dce026a",
   "metadata": {},
   "outputs": [],
   "source": [
    "def  func1 (x, a, b, c):\n",
    "     return a*x**2 + b*x + c\n",
    "\n",
    "#Ajustamos los parámetros de la función curve_fit\n",
    "parametros1, covs= curve_fit(func1, df['instant_bookable'], df['host_acceptance_rate'])"
   ]
  },
  {
   "cell_type": "code",
   "execution_count": 60,
   "id": "314d778b",
   "metadata": {},
   "outputs": [
    {
     "data": {
      "text/plain": [
       "array([-148.64514428,  148.67196421,    0.95478261])"
      ]
     },
     "execution_count": 60,
     "metadata": {},
     "output_type": "execute_result"
    }
   ],
   "source": [
    "#Obtenemos los coeficientes del modelo de regresión no lineal\n",
    "parametros1"
   ]
  },
  {
   "cell_type": "code",
   "execution_count": 61,
   "id": "286e9466",
   "metadata": {},
   "outputs": [],
   "source": [
    "# Predicciones\n",
    "y_pred1 = func1(x, *parametros1)"
   ]
  },
  {
   "cell_type": "code",
   "execution_count": 62,
   "id": "02ecc7a3",
   "metadata": {},
   "outputs": [
    {
     "name": "stdout",
     "output_type": "stream",
     "text": [
      "R² Modelo 1: 0.04674865599028821\n",
      "R Modelo 1: 0.21621437507781072\n"
     ]
    }
   ],
   "source": [
    "#Calculamos el coeficiente de determinación del modelo\n",
    "R2_Modelo1 = r2_score(y, y_pred1) \n",
    "R2_Modelo1 \n",
    "\n",
    "#Calculamos el coeficiente de correlación del modelo\n",
    "R = np.sqrt(R2_Modelo1)\n",
    "R\n",
    "\n",
    "# Imprimimos ambos resultados\n",
    "print(\"R² Modelo 1:\", R2_Modelo1)\n",
    "print(\"R Modelo 1:\", R)"
   ]
  },
  {
   "cell_type": "markdown",
   "id": "d21f18a9",
   "metadata": {},
   "source": [
    "Modelo 2 Logaritmico"
   ]
  },
  {
   "cell_type": "code",
   "execution_count": 81,
   "id": "160bf03d",
   "metadata": {},
   "outputs": [],
   "source": [
    "# Definimos la función logarítmica\n",
    "def func2(x, a, b):\n",
    "    return a * np.log(x) + b\n",
    "\n",
    "# Ajustamos los parámetros de la función curve_fit\n",
    "# (filtramos x > 0 para evitar errores con log(0))\n",
    "x = df['minimum_maximum_nights']\n",
    "x = x[x > 0]\n",
    "y = df.loc[x.index, 'host_acceptance_rate']\n",
    "parametros2, covs2 = curve_fit(func2, x, y, maxfev=20000)"
   ]
  },
  {
   "cell_type": "code",
   "execution_count": 82,
   "id": "2aeef866",
   "metadata": {},
   "outputs": [
    {
     "data": {
      "text/plain": [
       "array([0.00429658, 0.94046204])"
      ]
     },
     "execution_count": 82,
     "metadata": {},
     "output_type": "execute_result"
    }
   ],
   "source": [
    "# Obtenemos los coeficientes del modelo de regresión no lineal\n",
    "parametros2"
   ]
  },
  {
   "cell_type": "code",
   "execution_count": 83,
   "id": "acb38008",
   "metadata": {},
   "outputs": [],
   "source": [
    "# Predicciones\n",
    "y_pred2 = func2(x, *parametros2)"
   ]
  },
  {
   "cell_type": "code",
   "execution_count": 84,
   "id": "dd8d89b0",
   "metadata": {},
   "outputs": [
    {
     "name": "stdout",
     "output_type": "stream",
     "text": [
      "R² Modelo 1: 0.011669275093190268\n",
      "R Modelo 1: 0.1080244189671496\n"
     ]
    }
   ],
   "source": [
    "# Calculamos el coeficiente de determinación del modelo\n",
    "R2_Modelo2 = r2_score(y, y_pred2)\n",
    "R2_Modelo2\n",
    "\n",
    "# Calculamos el coeficiente de correlación del modelo\n",
    "R = np.sqrt(abs(R2_Modelo2))\n",
    "R\n",
    "\n",
    "# Imprimimos ambos resultados\n",
    "print(\"R² Modelo 1:\", R2_Modelo2)\n",
    "print(\"R Modelo 1:\", R)"
   ]
  },
  {
   "cell_type": "markdown",
   "id": "b0352ce2",
   "metadata": {},
   "source": [
    "host_total_listings_count"
   ]
  },
  {
   "cell_type": "code",
   "execution_count": 75,
   "id": "f50833e3",
   "metadata": {},
   "outputs": [
    {
     "name": "stdout",
     "output_type": "stream",
     "text": [
      "Variables más correlacionadas con host_total_listings_count:\n",
      "\n",
      "calculated_host_listings_count                 0.642858\n",
      "calculated_host_listings_count_entire_homes    0.576308\n",
      "review_scores_rating                           0.167497\n",
      "review_scores_value                            0.148337\n",
      "review_scores_cleanliness                      0.145220\n",
      "Name: host_total_listings_count, dtype: float64\n",
      "\n",
      "Con signo original:\n",
      "\n",
      "calculated_host_listings_count                 0.642858\n",
      "calculated_host_listings_count_entire_homes    0.576308\n",
      "review_scores_rating                          -0.167497\n",
      "review_scores_value                           -0.148337\n",
      "review_scores_cleanliness                     -0.145220\n",
      "Name: host_total_listings_count, dtype: float64\n"
     ]
    }
   ],
   "source": [
    "# --- Encontrar variables más correlacionadas con una variable dependiente ---\n",
    "# Variable dependiente (puedes cambiarla aquí)\n",
    "var_dep = \"host_total_listings_count\"\n",
    "\n",
    "# Calculamos todas las correlaciones de esa variable con el resto\n",
    "correls = df.corr(numeric_only=True)[var_dep].drop(var_dep)   # quitamos la propia variable\n",
    "\n",
    "# Ordenamos por valor absoluto de mayor a menor\n",
    "correls_abs = correls.abs().sort_values(ascending=False)\n",
    "\n",
    "# Mostramos el top 5 (o el número que quieras)\n",
    "print(f\"Variables más correlacionadas con {var_dep}:\\n\")\n",
    "print(correls_abs.head(5))\n",
    "\n",
    "# Si quieres ver también el signo original:\n",
    "print(\"\\nCon signo original:\\n\")\n",
    "print(correls.loc[correls_abs.index[:5]])"
   ]
  },
  {
   "cell_type": "code",
   "execution_count": 76,
   "id": "d83ccb07",
   "metadata": {},
   "outputs": [],
   "source": [
    "#Declaramos las variables dependientes e independientes para la regresión No lineal\n",
    "Vars_Indep= df[['review_scores_value']]\n",
    "Var_Dep= df['host_total_listings_count']\n",
    "\n",
    "#Redefinimos las variables \n",
    "x= Vars_Indep\n",
    "y= Var_Dep"
   ]
  },
  {
   "cell_type": "markdown",
   "id": "27964a32",
   "metadata": {},
   "source": [
    "Modelo cuadratico"
   ]
  },
  {
   "cell_type": "code",
   "execution_count": 77,
   "id": "d7378e82",
   "metadata": {},
   "outputs": [],
   "source": [
    "def  func1 (x, a, b, c):\n",
    "     return a*x**2 + b*x + c\n",
    "\n",
    "#Ajustamos los parámetros de la función curve_fit\n",
    "parametros1, covs= curve_fit(func1, df['review_scores_value'], df['host_total_listings_count'])\n",
    "\n",
    "#Obtenemos los coeficientes del modelo de regresión no lineal\n",
    "parametros1\n",
    "\n",
    "# Predicciones\n",
    "y_pred1 = func1(x, *parametros1)"
   ]
  },
  {
   "cell_type": "code",
   "execution_count": 78,
   "id": "9ddeee8b",
   "metadata": {},
   "outputs": [
    {
     "name": "stdout",
     "output_type": "stream",
     "text": [
      "R² Modelo 1: 0.022009194052569403\n",
      "R Modelo 1: 0.14835495964938078\n"
     ]
    }
   ],
   "source": [
    "#Calculamos el coeficiente de determinación del modelo\n",
    "R2_Modelo1 = r2_score(y, y_pred1) \n",
    "R2_Modelo1 \n",
    "\n",
    "#Calculamos el coeficiente de correlación del modelo\n",
    "R = np.sqrt(R2_Modelo1)\n",
    "R\n",
    "\n",
    "# Imprimimos ambos resultados\n",
    "print(\"R² Modelo 1:\", R2_Modelo1)\n",
    "print(\"R Modelo 1:\", R)"
   ]
  },
  {
   "cell_type": "markdown",
   "id": "1f2c18e9",
   "metadata": {},
   "source": [
    "Logaritmico"
   ]
  },
  {
   "cell_type": "code",
   "execution_count": 79,
   "id": "3519a08a",
   "metadata": {},
   "outputs": [],
   "source": [
    "# Definimos la función logarítmica\n",
    "def func2(x, a, b):\n",
    "    return a * np.log(x) + b\n",
    "\n",
    "# Ajustamos los parámetros de la función curve_fit\n",
    "# (filtramos x > 0 para evitar errores con log(0))\n",
    "x = df['review_scores_value']\n",
    "x = x[x > 0]\n",
    "y = df.loc[x.index, 'host_total_listings_count']\n",
    "parametros2, covs2 = curve_fit(func2, x, y, maxfev=20000)\n",
    "\n",
    "# Obtenemos los coeficientes del modelo de regresión no lineal\n",
    "parametros2\n",
    "\n",
    "# Predicciones\n",
    "y_pred2 = func2(x, *parametros2)"
   ]
  },
  {
   "cell_type": "code",
   "execution_count": 80,
   "id": "b022620b",
   "metadata": {},
   "outputs": [
    {
     "name": "stdout",
     "output_type": "stream",
     "text": [
      "R² Modelo 1: 0.02197798276181595\n",
      "R Modelo 1: 0.1482497310682753\n"
     ]
    }
   ],
   "source": [
    "# Calculamos el coeficiente de determinación del modelo\n",
    "R2_Modelo2 = r2_score(y, y_pred2)\n",
    "R2_Modelo2\n",
    "\n",
    "# Calculamos el coeficiente de correlación del modelo\n",
    "R = np.sqrt(abs(R2_Modelo2))\n",
    "R\n",
    "\n",
    "# Imprimimos ambos resultados\n",
    "print(\"R² Modelo 1:\", R2_Modelo2)\n",
    "print(\"R Modelo 1:\", R)"
   ]
  },
  {
   "cell_type": "markdown",
   "id": "391d2238",
   "metadata": {},
   "source": [
    "accommodates"
   ]
  },
  {
   "cell_type": "code",
   "execution_count": 85,
   "id": "f029fcec",
   "metadata": {},
   "outputs": [
    {
     "name": "stdout",
     "output_type": "stream",
     "text": [
      "Variables más correlacionadas con accommodates:\n",
      "\n",
      "beds                       0.723959\n",
      "bedrooms                   0.700020\n",
      "bathrooms                  0.567192\n",
      "price                      0.448937\n",
      "estimated_revenue_l365d    0.193329\n",
      "Name: accommodates, dtype: float64\n",
      "\n",
      "Con signo original:\n",
      "\n",
      "beds                       0.723959\n",
      "bedrooms                   0.700020\n",
      "bathrooms                  0.567192\n",
      "price                      0.448937\n",
      "estimated_revenue_l365d    0.193329\n",
      "Name: accommodates, dtype: float64\n"
     ]
    }
   ],
   "source": [
    "# --- Encontrar variables más correlacionadas con una variable dependiente ---\n",
    "# Variable dependiente (puedes cambiarla aquí)\n",
    "var_dep = \"accommodates\"\n",
    "\n",
    "# Calculamos todas las correlaciones de esa variable con el resto\n",
    "correls = df.corr(numeric_only=True)[var_dep].drop(var_dep)   # quitamos la propia variable\n",
    "\n",
    "# Ordenamos por valor absoluto de mayor a menor\n",
    "correls_abs = correls.abs().sort_values(ascending=False)\n",
    "\n",
    "# Mostramos el top 5 (o el número que quieras)\n",
    "print(f\"Variables más correlacionadas con {var_dep}:\\n\")\n",
    "print(correls_abs.head(5))\n",
    "\n",
    "# Si quieres ver también el signo original:\n",
    "print(\"\\nCon signo original:\\n\")\n",
    "print(correls.loc[correls_abs.index[:5]])"
   ]
  },
  {
   "cell_type": "code",
   "execution_count": 86,
   "id": "da9b823e",
   "metadata": {},
   "outputs": [],
   "source": [
    "#Declaramos las variables dependientes e independientes para la regresión No lineal\n",
    "Vars_Indep= df[['estimated_revenue_l365d']]\n",
    "Var_Dep= df['accommodates']\n",
    "\n",
    "#Redefinimos las variables \n",
    "x= Vars_Indep\n",
    "y= Var_Dep"
   ]
  },
  {
   "cell_type": "markdown",
   "id": "0a64593e",
   "metadata": {},
   "source": [
    "Cuadratico"
   ]
  },
  {
   "cell_type": "code",
   "execution_count": 87,
   "id": "b2cefcbd",
   "metadata": {},
   "outputs": [],
   "source": [
    "def  func1 (x, a, b, c):\n",
    "     return a*x**2 + b*x + c\n",
    "\n",
    "#Ajustamos los parámetros de la función curve_fit\n",
    "parametros1, covs= curve_fit(func1, df['estimated_revenue_l365d'], df['accommodates'])\n",
    "\n",
    "#Obtenemos los coeficientes del modelo de regresión no lineal\n",
    "parametros1\n",
    "\n",
    "# Predicciones\n",
    "y_pred1 = func1(x, *parametros1)"
   ]
  },
  {
   "cell_type": "code",
   "execution_count": 88,
   "id": "799869a9",
   "metadata": {},
   "outputs": [
    {
     "name": "stdout",
     "output_type": "stream",
     "text": [
      "R² Modelo 1: 0.03738228480764605\n",
      "R Modelo 1: 0.19334498909370795\n"
     ]
    }
   ],
   "source": [
    "#Calculamos el coeficiente de determinación del modelo\n",
    "R2_Modelo1 = r2_score(y, y_pred1) \n",
    "R2_Modelo1 \n",
    "\n",
    "#Calculamos el coeficiente de correlación del modelo\n",
    "R = np.sqrt(R2_Modelo1)\n",
    "R\n",
    "\n",
    "# Imprimimos ambos resultados\n",
    "print(\"R² Modelo 1:\", R2_Modelo1)\n",
    "print(\"R Modelo 1:\", R)"
   ]
  },
  {
   "cell_type": "markdown",
   "id": "6895d915",
   "metadata": {},
   "source": [
    "Logaritmico"
   ]
  },
  {
   "cell_type": "code",
   "execution_count": null,
   "id": "474d9230",
   "metadata": {},
   "outputs": [],
   "source": [
    "# Definimos la función logarítmica\n",
    "def func2(x, a, b):\n",
    "    return a * np.log(x) + b\n",
    "\n",
    "# Ajustamos los parámetros de la función curve_fit\n",
    "# (filtramos x > 0 para evitar errores con log(0))\n",
    "x = df['estimated_revenue_l365d']\n",
    "x = x[x > 0]\n",
    "y = df.loc[x.index, 'accommodates']\n",
    "parametros2, covs2 = curve_fit(func2, x, y, maxfev=20000)\n",
    "\n",
    "# Obtenemos los coeficientes del modelo de regresión no lineal\n",
    "parametros2\n",
    "\n",
    "# Predicciones\n",
    "y_pred2 = func2(x, *parametros2)"
   ]
  },
  {
   "cell_type": "code",
   "execution_count": 90,
   "id": "63ab2ad7",
   "metadata": {},
   "outputs": [
    {
     "name": "stdout",
     "output_type": "stream",
     "text": [
      "R² Modelo 1: 0.0448343178993138\n",
      "R Modelo 1: 0.2117411577830673\n"
     ]
    }
   ],
   "source": [
    "# Calculamos el coeficiente de determinación del modelo\n",
    "R2_Modelo2 = r2_score(y, y_pred2)\n",
    "R2_Modelo2\n",
    "\n",
    "# Calculamos el coeficiente de correlación del modelo\n",
    "R = np.sqrt(abs(R2_Modelo2))\n",
    "R\n",
    "\n",
    "# Imprimimos ambos resultados\n",
    "print(\"R² Modelo 1:\", R2_Modelo2)\n",
    "print(\"R Modelo 1:\", R)"
   ]
  },
  {
   "cell_type": "markdown",
   "id": "2492424e",
   "metadata": {},
   "source": [
    "reviews_per_month"
   ]
  },
  {
   "cell_type": "code",
   "execution_count": 91,
   "id": "f5fc7a20",
   "metadata": {},
   "outputs": [
    {
     "name": "stdout",
     "output_type": "stream",
     "text": [
      "Variables más correlacionadas con reviews_per_month:\n",
      "\n",
      "estimated_occupancy_l365d    0.479040\n",
      "last_review_num              0.349107\n",
      "estimated_revenue_l365d      0.348447\n",
      "number_of_reviews            0.226253\n",
      "Unnamed: 0                   0.225700\n",
      "Name: reviews_per_month, dtype: float64\n",
      "\n",
      "Con signo original:\n",
      "\n",
      "estimated_occupancy_l365d    0.479040\n",
      "last_review_num              0.349107\n",
      "estimated_revenue_l365d      0.348447\n",
      "number_of_reviews            0.226253\n",
      "Unnamed: 0                   0.225700\n",
      "Name: reviews_per_month, dtype: float64\n"
     ]
    }
   ],
   "source": [
    "# --- Encontrar variables más correlacionadas con una variable dependiente ---\n",
    "# Variable dependiente (puedes cambiarla aquí)\n",
    "var_dep = \"reviews_per_month\"\n",
    "\n",
    "# Calculamos todas las correlaciones de esa variable con el resto\n",
    "correls = df.corr(numeric_only=True)[var_dep].drop(var_dep)   # quitamos la propia variable\n",
    "\n",
    "# Ordenamos por valor absoluto de mayor a menor\n",
    "correls_abs = correls.abs().sort_values(ascending=False)\n",
    "\n",
    "# Mostramos el top 5 (o el número que quieras)\n",
    "print(f\"Variables más correlacionadas con {var_dep}:\\n\")\n",
    "print(correls_abs.head(5))\n",
    "\n",
    "# Si quieres ver también el signo original:\n",
    "print(\"\\nCon signo original:\\n\")\n",
    "print(correls.loc[correls_abs.index[:5]])"
   ]
  },
  {
   "cell_type": "code",
   "execution_count": 93,
   "id": "15b5d562",
   "metadata": {},
   "outputs": [],
   "source": [
    "#Declaramos las variables dependientes e independientes para la regresión No lineal\n",
    "Vars_Indep= df[['estimated_occupancy_l365d']]\n",
    "Var_Dep= df['reviews_per_month']\n",
    "\n",
    "#Redefinimos las variables \n",
    "x= Vars_Indep\n",
    "y= Var_Dep"
   ]
  },
  {
   "cell_type": "markdown",
   "id": "3135d68a",
   "metadata": {},
   "source": [
    "Cuadratico"
   ]
  },
  {
   "cell_type": "code",
   "execution_count": 94,
   "id": "d743fb75",
   "metadata": {},
   "outputs": [],
   "source": [
    "def  func1 (x, a, b, c):\n",
    "     return a*x**2 + b*x + c\n",
    "\n",
    "#Ajustamos los parámetros de la función curve_fit\n",
    "parametros1, covs= curve_fit(func1, df['estimated_occupancy_l365d'], df['reviews_per_month'])\n",
    "\n",
    "#Obtenemos los coeficientes del modelo de regresión no lineal\n",
    "parametros1\n",
    "\n",
    "# Predicciones\n",
    "y_pred1 = func1(x, *parametros1)"
   ]
  },
  {
   "cell_type": "code",
   "execution_count": 95,
   "id": "a0c39414",
   "metadata": {},
   "outputs": [
    {
     "name": "stdout",
     "output_type": "stream",
     "text": [
      "R² Modelo 1: 0.2295178470485707\n",
      "R Modelo 1: 0.47908020941025176\n"
     ]
    }
   ],
   "source": [
    "#Calculamos el coeficiente de determinación del modelo\n",
    "R2_Modelo1 = r2_score(y, y_pred1) \n",
    "R2_Modelo1 \n",
    "\n",
    "#Calculamos el coeficiente de correlación del modelo\n",
    "R = np.sqrt(R2_Modelo1)\n",
    "R\n",
    "\n",
    "# Imprimimos ambos resultados\n",
    "print(\"R² Modelo 1:\", R2_Modelo1)\n",
    "print(\"R Modelo 1:\", R)"
   ]
  },
  {
   "cell_type": "markdown",
   "id": "bdb93292",
   "metadata": {},
   "source": [
    "Logaritmico"
   ]
  },
  {
   "cell_type": "code",
   "execution_count": 96,
   "id": "65398c7c",
   "metadata": {},
   "outputs": [],
   "source": [
    "# Definimos la función logarítmica\n",
    "def func2(x, a, b):\n",
    "    return a * np.log(x) + b\n",
    "\n",
    "# Ajustamos los parámetros de la función curve_fit\n",
    "# (filtramos x > 0 para evitar errores con log(0))\n",
    "x = df['estimated_occupancy_l365d']\n",
    "x = x[x > 0]\n",
    "y = df.loc[x.index, 'reviews_per_month']\n",
    "parametros2, covs2 = curve_fit(func2, x, y, maxfev=20000)\n",
    "\n",
    "# Obtenemos los coeficientes del modelo de regresión no lineal\n",
    "parametros2\n",
    "\n",
    "# Predicciones\n",
    "y_pred2 = func2(x, *parametros2)"
   ]
  },
  {
   "cell_type": "code",
   "execution_count": 97,
   "id": "bb922bbf",
   "metadata": {},
   "outputs": [
    {
     "name": "stdout",
     "output_type": "stream",
     "text": [
      "R² Modelo 1: 0.23300438029549753\n",
      "R Modelo 1: 0.48270527270322783\n"
     ]
    }
   ],
   "source": [
    "# Calculamos el coeficiente de determinación del modelo\n",
    "R2_Modelo2 = r2_score(y, y_pred2)\n",
    "R2_Modelo2\n",
    "\n",
    "# Calculamos el coeficiente de correlación del modelo\n",
    "R = np.sqrt(abs(R2_Modelo2))\n",
    "R\n",
    "\n",
    "# Imprimimos ambos resultados\n",
    "print(\"R² Modelo 1:\", R2_Modelo2)\n",
    "print(\"R Modelo 1:\", R)"
   ]
  },
  {
   "cell_type": "markdown",
   "id": "3d674f3d",
   "metadata": {},
   "source": [
    "price"
   ]
  },
  {
   "cell_type": "code",
   "execution_count": 98,
   "id": "22b4d6bf",
   "metadata": {},
   "outputs": [
    {
     "name": "stdout",
     "output_type": "stream",
     "text": [
      "Variables más correlacionadas con price:\n",
      "\n",
      "bedrooms                   0.518793\n",
      "bathrooms                  0.502938\n",
      "accommodates               0.448937\n",
      "beds                       0.415004\n",
      "estimated_revenue_l365d    0.162898\n",
      "Name: price, dtype: float64\n",
      "\n",
      "Con signo original:\n",
      "\n",
      "bedrooms                   0.518793\n",
      "bathrooms                  0.502938\n",
      "accommodates               0.448937\n",
      "beds                       0.415004\n",
      "estimated_revenue_l365d    0.162898\n",
      "Name: price, dtype: float64\n"
     ]
    }
   ],
   "source": [
    "# --- Encontrar variables más correlacionadas con una variable dependiente ---\n",
    "# Variable dependiente (puedes cambiarla aquí)\n",
    "var_dep = \"price\"\n",
    "\n",
    "# Calculamos todas las correlaciones de esa variable con el resto\n",
    "correls = df.corr(numeric_only=True)[var_dep].drop(var_dep)   # quitamos la propia variable\n",
    "\n",
    "# Ordenamos por valor absoluto de mayor a menor\n",
    "correls_abs = correls.abs().sort_values(ascending=False)\n",
    "\n",
    "# Mostramos el top 5 (o el número que quieras)\n",
    "print(f\"Variables más correlacionadas con {var_dep}:\\n\")\n",
    "print(correls_abs.head(5))\n",
    "\n",
    "# Si quieres ver también el signo original:\n",
    "print(\"\\nCon signo original:\\n\")\n",
    "print(correls.loc[correls_abs.index[:5]])"
   ]
  },
  {
   "cell_type": "code",
   "execution_count": 99,
   "id": "a99e9d8c",
   "metadata": {},
   "outputs": [],
   "source": [
    "#Declaramos las variables dependientes e independientes para la regresión No lineal\n",
    "Vars_Indep= df[['estimated_revenue_l365d']]\n",
    "Var_Dep= df['price']\n",
    "\n",
    "#Redefinimos las variables \n",
    "x= Vars_Indep\n",
    "y= Var_Dep"
   ]
  },
  {
   "cell_type": "markdown",
   "id": "2817cdcb",
   "metadata": {},
   "source": [
    "Cuadratico"
   ]
  },
  {
   "cell_type": "code",
   "execution_count": 100,
   "id": "66d1cefb",
   "metadata": {},
   "outputs": [],
   "source": [
    "def  func1 (x, a, b, c):\n",
    "     return a*x**2 + b*x + c\n",
    "\n",
    "#Ajustamos los parámetros de la función curve_fit\n",
    "parametros1, covs= curve_fit(func1, df['estimated_revenue_l365d'], df['price'])\n",
    "\n",
    "#Obtenemos los coeficientes del modelo de regresión no lineal\n",
    "parametros1\n",
    "\n",
    "# Predicciones\n",
    "y_pred1 = func1(x, *parametros1)"
   ]
  },
  {
   "cell_type": "code",
   "execution_count": 101,
   "id": "c545cc0a",
   "metadata": {},
   "outputs": [
    {
     "name": "stdout",
     "output_type": "stream",
     "text": [
      "R² Modelo 1: 0.03496821100893199\n",
      "R Modelo 1: 0.18699789038631423\n"
     ]
    }
   ],
   "source": [
    "#Calculamos el coeficiente de determinación del modelo\n",
    "R2_Modelo1 = r2_score(y, y_pred1) \n",
    "R2_Modelo1 \n",
    "\n",
    "#Calculamos el coeficiente de correlación del modelo\n",
    "R = np.sqrt(R2_Modelo1)\n",
    "R\n",
    "\n",
    "# Imprimimos ambos resultados\n",
    "print(\"R² Modelo 1:\", R2_Modelo1)\n",
    "print(\"R Modelo 1:\", R)"
   ]
  },
  {
   "cell_type": "markdown",
   "id": "0c1ee784",
   "metadata": {},
   "source": [
    "Logaritmico"
   ]
  },
  {
   "cell_type": "code",
   "execution_count": 102,
   "id": "91940726",
   "metadata": {},
   "outputs": [],
   "source": [
    "# Definimos la función logarítmica\n",
    "def func2(x, a, b):\n",
    "    return a * np.log(x) + b\n",
    "\n",
    "# Ajustamos los parámetros de la función curve_fit\n",
    "# (filtramos x > 0 para evitar errores con log(0))\n",
    "x = df['estimated_revenue_l365d']\n",
    "x = x[x > 0]\n",
    "y = df.loc[x.index, 'price']\n",
    "parametros2, covs2 = curve_fit(func2, x, y, maxfev=20000)\n",
    "\n",
    "# Obtenemos los coeficientes del modelo de regresión no lineal\n",
    "parametros2\n",
    "\n",
    "# Predicciones\n",
    "y_pred2 = func2(x, *parametros2)"
   ]
  },
  {
   "cell_type": "code",
   "execution_count": 103,
   "id": "336dc961",
   "metadata": {},
   "outputs": [
    {
     "name": "stdout",
     "output_type": "stream",
     "text": [
      "R² Modelo 1: 0.06421631369286707\n",
      "R Modelo 1: 0.25340937964658505\n"
     ]
    }
   ],
   "source": [
    "# Calculamos el coeficiente de determinación del modelo\n",
    "R2_Modelo2 = r2_score(y, y_pred2)\n",
    "R2_Modelo2\n",
    "\n",
    "# Calculamos el coeficiente de correlación del modelo\n",
    "R = np.sqrt(abs(R2_Modelo2))\n",
    "R\n",
    "\n",
    "# Imprimimos ambos resultados\n",
    "print(\"R² Modelo 1:\", R2_Modelo2)\n",
    "print(\"R Modelo 1:\", R)"
   ]
  }
 ],
 "metadata": {
  "kernelspec": {
   "display_name": "Python 3",
   "language": "python",
   "name": "python3"
  },
  "language_info": {
   "codemirror_mode": {
    "name": "ipython",
    "version": 3
   },
   "file_extension": ".py",
   "mimetype": "text/x-python",
   "name": "python",
   "nbconvert_exporter": "python",
   "pygments_lexer": "ipython3",
   "version": "3.12.1"
  }
 },
 "nbformat": 4,
 "nbformat_minor": 5
}
